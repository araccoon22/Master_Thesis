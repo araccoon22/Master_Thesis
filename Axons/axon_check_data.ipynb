{
 "cells": [
  {
   "cell_type": "markdown",
   "id": "91f3ff88-f177-40e8-bb2e-6ac89184577d",
   "metadata": {},
   "source": [
    "# Importing the data\n",
    "Just a quick check to see whether we can import all the data"
   ]
  },
  {
   "cell_type": "code",
   "execution_count": 1,
   "id": "812ab781-e1b5-4f5e-bfcd-589dcd7a3561",
   "metadata": {},
   "outputs": [],
   "source": [
    "import tmd\n",
    "from tmd.view import plot\n",
    "from tmd.view import view\n",
    "\n",
    "import matplotlib.pyplot as plt\n",
    "import sys\n",
    "import os"
   ]
  },
  {
   "cell_type": "code",
   "execution_count": 2,
   "id": "e484b7e0-071a-4b0a-9859-6c165a157897",
   "metadata": {},
   "outputs": [],
   "source": [
    "parent_dir = os.path.abspath(os.path.join(os.getcwd(), os.pardir))\n",
    "sys.path.append(parent_dir)"
   ]
  },
  {
   "cell_type": "code",
   "execution_count": 3,
   "id": "9c0194da-f013-4a50-b938-cc0b1c29ce8f",
   "metadata": {},
   "outputs": [],
   "source": [
    "import functions as fcts"
   ]
  },
  {
   "cell_type": "code",
   "execution_count": 4,
   "id": "c332fc05-c352-40af-b088-3778e7a4bd18",
   "metadata": {},
   "outputs": [],
   "source": [
    "data_folder = \"../Data/ExamplesL23PC\"\n",
    "folders_to_treat = ['Human','Mouse']"
   ]
  },
  {
   "cell_type": "code",
   "execution_count": 5,
   "id": "7d4e66e0-730c-40d5-8aae-42a41474ee76",
   "metadata": {},
   "outputs": [
    {
     "name": "stdout",
     "output_type": "stream",
     "text": [
      "Folder: Human\n",
      "Neurons loaded: 186\n",
      "Total files in folder: 187\n",
      ".asc files in folder: 186\n",
      "Failed to load: 0 files\n",
      "Unloaded files: []\n",
      "========================================\n",
      "\n",
      "Folder: Mouse\n",
      "Neurons loaded: 38\n",
      "Total files in folder: 39\n",
      ".asc files in folder: 38\n",
      "Failed to load: 0 files\n",
      "Unloaded files: []\n",
      "========================================\n",
      "\n"
     ]
    }
   ],
   "source": [
    "grouped_neurons = fcts.check_and_load_neurons(data_folder, folders_to_treat)"
   ]
  },
  {
   "cell_type": "code",
   "execution_count": 6,
   "id": "d26f9221-4a54-4726-bcbb-b55ddca0f34c",
   "metadata": {},
   "outputs": [],
   "source": [
    "neurons_human = grouped_neurons[\"Human\"]\n",
    "neurons_mouse = grouped_neurons[\"Mouse\"]"
   ]
  },
  {
   "cell_type": "markdown",
   "id": "70476407-d944-4892-b0d6-e5b286df6ba5",
   "metadata": {},
   "source": [
    "# Checking the average diagram of Axons"
   ]
  },
  {
   "cell_type": "markdown",
   "id": "789fee08-8e5d-4095-ae5f-df20a2e9429e",
   "metadata": {},
   "source": [
    "## New method: selecting only a subsample of axons"
   ]
  },
  {
   "cell_type": "code",
   "execution_count": 7,
   "id": "e026e143-0a29-4cae-8b79-41242147e024",
   "metadata": {},
   "outputs": [],
   "source": [
    "population_human = tmd.Population.Population(name='Humans', neurons=neurons_human)\n",
    "population_mouse = tmd.Population.Population(name='Mice', neurons=neurons_mouse)"
   ]
  },
  {
   "cell_type": "code",
   "execution_count": 11,
   "id": "f18a815e-9aa7-4105-a76f-cb077a3192fa",
   "metadata": {},
   "outputs": [
    {
     "ename": "IndexError",
     "evalue": "list index out of range",
     "output_type": "error",
     "traceback": [
      "\u001b[31m---------------------------------------------------------------------------\u001b[39m",
      "\u001b[31mIndexError\u001b[39m                                Traceback (most recent call last)",
      "\u001b[36mCell\u001b[39m\u001b[36m \u001b[39m\u001b[32mIn[11]\u001b[39m\u001b[32m, line 1\u001b[39m\n\u001b[32m----> \u001b[39m\u001b[32m1\u001b[39m phs_human = \u001b[43m[\u001b[49m\u001b[43mtmd\u001b[49m\u001b[43m.\u001b[49m\u001b[43mmethods\u001b[49m\u001b[43m.\u001b[49m\u001b[43mget_persistence_diagram\u001b[49m\u001b[43m(\u001b[49m\u001b[43mn\u001b[49m\u001b[43m.\u001b[49m\u001b[43maxon\u001b[49m\u001b[43m[\u001b[49m\u001b[32;43m0\u001b[39;49m\u001b[43m]\u001b[49m\u001b[43m)\u001b[49m\u001b[43m \u001b[49m\u001b[38;5;28;43;01mfor\u001b[39;49;00m\u001b[43m \u001b[49m\u001b[43mn\u001b[49m\u001b[43m \u001b[49m\u001b[38;5;129;43;01min\u001b[39;49;00m\u001b[43m \u001b[49m\u001b[43mpopulation_human\u001b[49m\u001b[43m.\u001b[49m\u001b[43mneurons\u001b[49m\u001b[43m]\u001b[49m\n\u001b[32m      2\u001b[39m phs_human_select = [p \u001b[38;5;28;01mfor\u001b[39;00m p \u001b[38;5;129;01min\u001b[39;00m phs_human \u001b[38;5;28;01mif\u001b[39;00m \u001b[38;5;28mlen\u001b[39m(p) > \u001b[32m20\u001b[39m]\n",
      "\u001b[36mCell\u001b[39m\u001b[36m \u001b[39m\u001b[32mIn[11]\u001b[39m\u001b[32m, line 1\u001b[39m, in \u001b[36m<listcomp>\u001b[39m\u001b[34m(.0)\u001b[39m\n\u001b[32m----> \u001b[39m\u001b[32m1\u001b[39m phs_human = [tmd.methods.get_persistence_diagram(\u001b[43mn\u001b[49m\u001b[43m.\u001b[49m\u001b[43maxon\u001b[49m\u001b[43m[\u001b[49m\u001b[32;43m0\u001b[39;49m\u001b[43m]\u001b[49m) \u001b[38;5;28;01mfor\u001b[39;00m n \u001b[38;5;129;01min\u001b[39;00m population_human.neurons]\n\u001b[32m      2\u001b[39m phs_human_select = [p \u001b[38;5;28;01mfor\u001b[39;00m p \u001b[38;5;129;01min\u001b[39;00m phs_human \u001b[38;5;28;01mif\u001b[39;00m \u001b[38;5;28mlen\u001b[39m(p) > \u001b[32m20\u001b[39m]\n",
      "\u001b[31mIndexError\u001b[39m: list index out of range"
     ]
    }
   ],
   "source": [
    "phs_human = [tmd.methods.get_persistence_diagram(n.axon[0]) for n in population_human.neurons]\n",
    "phs_human_select = [p for p in phs_human if len(p) > 20]"
   ]
  },
  {
   "cell_type": "markdown",
   "id": "72a47b1a-706d-461e-a6a4-fdc53e781d57",
   "metadata": {},
   "source": [
    "## Old method: like done for the other neurons part"
   ]
  },
  {
   "cell_type": "code",
   "execution_count": 9,
   "id": "dd2cc269-848d-4553-a4d0-594044f901d2",
   "metadata": {},
   "outputs": [
    {
     "name": "stdout",
     "output_type": "stream",
     "text": [
      "[Human] Computed 186 persistence diagrams for axons.\n",
      "[Mouse] Computed 38 persistence diagrams for axons.\n"
     ]
    }
   ],
   "source": [
    "ph_diagrams_human_axon = fcts.compute_diagrams(\n",
    "    neurons_human, \n",
    "    group_name=\"Human\", \n",
    "    neuron_part=\"axon\",\n",
    "    distance_type=\"path_distances\"\n",
    ")\n",
    "\n",
    "ph_diagrams_mouse_axon = fcts.compute_diagrams(\n",
    "    neurons_mouse, \n",
    "    group_name=\"Mouse\", \n",
    "    neuron_part=\"axon\",\n",
    "    distance_type=\"path_distances\"\n",
    ")"
   ]
  },
  {
   "cell_type": "code",
   "execution_count": 10,
   "id": "9680a944-3283-4299-9246-a3628c703388",
   "metadata": {},
   "outputs": [
    {
     "ename": "IndexError",
     "evalue": "list index out of range",
     "output_type": "error",
     "traceback": [
      "\u001b[31m---------------------------------------------------------------------------\u001b[39m",
      "\u001b[31mIndexError\u001b[39m                                Traceback (most recent call last)",
      "\u001b[36mCell\u001b[39m\u001b[36m \u001b[39m\u001b[32mIn[10]\u001b[39m\u001b[32m, line 1\u001b[39m\n\u001b[32m----> \u001b[39m\u001b[32m1\u001b[39m human_axon = \u001b[43mplot\u001b[49m\u001b[43m.\u001b[49m\u001b[43mpersistence_image_average\u001b[49m\u001b[43m(\u001b[49m\u001b[43mph_diagrams_human_axon\u001b[49m\u001b[43m)\u001b[49m\n",
      "\u001b[36mFile \u001b[39m\u001b[32m~\\Desktop\\GITS\\Master_thesis\\pdm_env\\Lib\\site-packages\\tmd\\view\\plot.py:326\u001b[39m, in \u001b[36mpersistence_image_average\u001b[39m\u001b[34m(ph_list, new_fig, subplot, xlim, ylim, norm_factor, vmin, vmax, cmap, weighted, **kwargs)\u001b[39m\n\u001b[32m    322\u001b[39m av_imgs = analysis.get_average_persistence_image(\n\u001b[32m    323\u001b[39m     ph_list, xlim=xlim, ylim=ylim, norm_factor=norm_factor, weighted=weighted\n\u001b[32m    324\u001b[39m )\n\u001b[32m    325\u001b[39m \u001b[38;5;28;01mif\u001b[39;00m xlim \u001b[38;5;129;01mis\u001b[39;00m \u001b[38;5;28;01mNone\u001b[39;00m \u001b[38;5;129;01mor\u001b[39;00m xlim \u001b[38;5;129;01mis\u001b[39;00m \u001b[38;5;28;01mNone\u001b[39;00m:\n\u001b[32m--> \u001b[39m\u001b[32m326\u001b[39m     xlim, ylim = \u001b[43mvectorizations\u001b[49m\u001b[43m.\u001b[49m\u001b[43mget_limits\u001b[49m\u001b[43m(\u001b[49m\u001b[43mph_list\u001b[49m\u001b[43m)\u001b[49m\n\u001b[32m    328\u001b[39m \u001b[38;5;28;01mif\u001b[39;00m vmin \u001b[38;5;129;01mis\u001b[39;00m \u001b[38;5;28;01mNone\u001b[39;00m:\n\u001b[32m    329\u001b[39m     vmin = np.min(av_imgs)\n",
      "\u001b[36mFile \u001b[39m\u001b[32m~\\Desktop\\GITS\\Master_thesis\\pdm_env\\Lib\\site-packages\\tmd\\Topology\\vectorizations.py:26\u001b[39m, in \u001b[36mget_limits\u001b[39m\u001b[34m(phs_list)\u001b[39m\n\u001b[32m     24\u001b[39m \u001b[38;5;28;01mdef\u001b[39;00m\u001b[38;5;250m \u001b[39m\u001b[34mget_limits\u001b[39m(phs_list):\n\u001b[32m     25\u001b[39m \u001b[38;5;250m    \u001b[39m\u001b[33;03m\"\"\"Returns the x-y coordinates limits (min, max) for a list of persistence diagrams.\"\"\"\u001b[39;00m\n\u001b[32m---> \u001b[39m\u001b[32m26\u001b[39m     \u001b[38;5;28;01mif\u001b[39;00m \u001b[38;5;28many\u001b[39m((\u001b[38;5;28misinstance\u001b[39m(ph[\u001b[32m0\u001b[39m], \u001b[38;5;28mlist\u001b[39m) \u001b[38;5;28;01mfor\u001b[39;00m ph \u001b[38;5;129;01min\u001b[39;00m phs_list)):\n\u001b[32m     27\u001b[39m         phs = [\u001b[38;5;28mlist\u001b[39m(ph_bar) \u001b[38;5;28;01mfor\u001b[39;00m ph \u001b[38;5;129;01min\u001b[39;00m phs_list \u001b[38;5;28;01mfor\u001b[39;00m ph_bar \u001b[38;5;129;01min\u001b[39;00m ph]\n\u001b[32m     28\u001b[39m     \u001b[38;5;28;01melse\u001b[39;00m:\n",
      "\u001b[36mFile \u001b[39m\u001b[32m~\\Desktop\\GITS\\Master_thesis\\pdm_env\\Lib\\site-packages\\tmd\\Topology\\vectorizations.py:26\u001b[39m, in \u001b[36m<genexpr>\u001b[39m\u001b[34m(.0)\u001b[39m\n\u001b[32m     24\u001b[39m \u001b[38;5;28;01mdef\u001b[39;00m\u001b[38;5;250m \u001b[39m\u001b[34mget_limits\u001b[39m(phs_list):\n\u001b[32m     25\u001b[39m \u001b[38;5;250m    \u001b[39m\u001b[33;03m\"\"\"Returns the x-y coordinates limits (min, max) for a list of persistence diagrams.\"\"\"\u001b[39;00m\n\u001b[32m---> \u001b[39m\u001b[32m26\u001b[39m     \u001b[38;5;28;01mif\u001b[39;00m \u001b[38;5;28many\u001b[39m((\u001b[38;5;28misinstance\u001b[39m(\u001b[43mph\u001b[49m\u001b[43m[\u001b[49m\u001b[32;43m0\u001b[39;49m\u001b[43m]\u001b[49m, \u001b[38;5;28mlist\u001b[39m) \u001b[38;5;28;01mfor\u001b[39;00m ph \u001b[38;5;129;01min\u001b[39;00m phs_list)):\n\u001b[32m     27\u001b[39m         phs = [\u001b[38;5;28mlist\u001b[39m(ph_bar) \u001b[38;5;28;01mfor\u001b[39;00m ph \u001b[38;5;129;01min\u001b[39;00m phs_list \u001b[38;5;28;01mfor\u001b[39;00m ph_bar \u001b[38;5;129;01min\u001b[39;00m ph]\n\u001b[32m     28\u001b[39m     \u001b[38;5;28;01melse\u001b[39;00m:\n",
      "\u001b[31mIndexError\u001b[39m: list index out of range"
     ]
    }
   ],
   "source": [
    "human_axon = plot.persistence_image_average(ph_diagrams_human_axon)"
   ]
  }
 ],
 "metadata": {
  "kernelspec": {
   "display_name": "Python (pdm_env)",
   "language": "python",
   "name": "pdm_env"
  },
  "language_info": {
   "codemirror_mode": {
    "name": "ipython",
    "version": 3
   },
   "file_extension": ".py",
   "mimetype": "text/x-python",
   "name": "python",
   "nbconvert_exporter": "python",
   "pygments_lexer": "ipython3",
   "version": "3.11.5"
  }
 },
 "nbformat": 4,
 "nbformat_minor": 5
}
