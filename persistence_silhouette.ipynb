{
 "cells": [
  {
   "cell_type": "markdown",
   "id": "5537d9a4-dbb7-4c19-b603-883be9259250",
   "metadata": {},
   "source": [
    "# Difference between Human and Mouse Dataset: robustness using silhouette persistence\n",
    "\n",
    "This notebook implements the full analysis pipeline for comparing neuronal morphologies between two groups (human and mouse) using tools from Topological Data Analysis (TDA). The goal is to identify robust, interpretable structural differences based on topological summaries of dendritic architecture.\n",
    "\n",
    "The methodology follows these main steps:\n",
    "\n",
    "1. Preprocessing\n",
    "   - Load and validate neuronal reconstructions.\n",
    "   - Compute persistence diagrams (e.g., in homology dimension 0).\n",
    "   - Convert diagrams into persistence silhouettes.\n",
    "2. Compute Group Means\n",
    "   - Calculate the average persistence silhouette for each group.\n",
    "3. Build Confidence Bands\n",
    "   - Use bootstrap resampling to estimate variability and construct confidence bands for the mean silhouettes.\n",
    "4. Quantify Effect Sizes\n",
    "    - Compute $L^2$ distance between the group means.\n",
    "    - Identify regions of maximal difference.\n",
    "5. Perform Statistical Testing\n",
    "    - Run a two-sample permutation test to assess the significance of the observed topological differences.\n",
    "6. Visualization & Interpretation\n",
    "    - Plot mean functions, confidence bands, and difference curves.\n",
    "    - Discuss findings in light of biological relevance.\n",
    "\n",
    "This topological approach enables a principled, multiscale comparison of tree-like neuronal structures beyond traditional morphometric features."
   ]
  },
  {
   "cell_type": "code",
   "execution_count": 8,
   "id": "7327ab5b-8778-4bac-a111-be235e1752e0",
   "metadata": {},
   "outputs": [
    {
     "ename": "ModuleNotFoundError",
     "evalue": "No module named 'persim'",
     "output_type": "error",
     "traceback": [
      "\u001b[31m---------------------------------------------------------------------------\u001b[39m",
      "\u001b[31mModuleNotFoundError\u001b[39m                       Traceback (most recent call last)",
      "\u001b[36mCell\u001b[39m\u001b[36m \u001b[39m\u001b[32mIn[8]\u001b[39m\u001b[32m, line 4\u001b[39m\n\u001b[32m      2\u001b[39m \u001b[38;5;28;01mfrom\u001b[39;00m\u001b[38;5;250m \u001b[39m\u001b[34;01mtmd\u001b[39;00m\u001b[34;01m.\u001b[39;00m\u001b[34;01mview\u001b[39;00m\u001b[38;5;250m \u001b[39m\u001b[38;5;28;01mimport\u001b[39;00m plot\n\u001b[32m      3\u001b[39m \u001b[38;5;28;01mfrom\u001b[39;00m\u001b[38;5;250m \u001b[39m\u001b[34;01mtmd\u001b[39;00m\u001b[34;01m.\u001b[39;00m\u001b[34;01mview\u001b[39;00m\u001b[38;5;250m \u001b[39m\u001b[38;5;28;01mimport\u001b[39;00m view\n\u001b[32m----> \u001b[39m\u001b[32m4\u001b[39m \u001b[38;5;28;01mfrom\u001b[39;00m\u001b[38;5;250m \u001b[39m\u001b[34;01mpersim\u001b[39;00m\u001b[38;5;250m \u001b[39m\u001b[38;5;28;01mimport\u001b[39;00m PersistenceSilhouette\n\u001b[32m      6\u001b[39m \u001b[38;5;28;01mimport\u001b[39;00m\u001b[38;5;250m \u001b[39m\u001b[34;01mmatplotlib\u001b[39;00m\u001b[34;01m.\u001b[39;00m\u001b[34;01mpyplot\u001b[39;00m\u001b[38;5;250m \u001b[39m\u001b[38;5;28;01mas\u001b[39;00m\u001b[38;5;250m \u001b[39m\u001b[34;01mplt\u001b[39;00m\n\u001b[32m      7\u001b[39m \u001b[38;5;28;01mimport\u001b[39;00m\u001b[38;5;250m \u001b[39m\u001b[34;01mos\u001b[39;00m\n",
      "\u001b[31mModuleNotFoundError\u001b[39m: No module named 'persim'"
     ]
    }
   ],
   "source": [
    "import tmd\n",
    "from tmd.view import plot\n",
    "from tmd.view import view\n",
    "from persim import PersistenceSilhouette\n",
    "\n",
    "import matplotlib.pyplot as plt\n",
    "import os\n",
    "import functions as fcts"
   ]
  },
  {
   "cell_type": "markdown",
   "id": "b5da2577-b113-4ed0-948d-64f11811c49f",
   "metadata": {},
   "source": [
    "## 1. Preprocessing"
   ]
  },
  {
   "cell_type": "markdown",
   "id": "9783f9ae-54a9-4f90-8d09-02332afae9a3",
   "metadata": {},
   "source": [
    "The data of Humans and Mices are separated in two distinct folders. Because the structure of a tree is not supposed to have cycle, we treat the data in Homology Dimension 0."
   ]
  },
  {
   "cell_type": "code",
   "execution_count": 2,
   "id": "5976ac35-5f8d-4bb1-873e-e95464ede82f",
   "metadata": {},
   "outputs": [],
   "source": [
    "data_folder = \"Data/ExamplesL23PC\"\n",
    "folders_to_treat = ['Human','Mouse']"
   ]
  },
  {
   "cell_type": "code",
   "execution_count": 3,
   "id": "527d42e7-7e9f-44c2-b1f3-d17e396653bb",
   "metadata": {},
   "outputs": [
    {
     "name": "stdout",
     "output_type": "stream",
     "text": [
      "Folder: Human\n",
      "Neurons loaded: 186\n",
      "Total files in folder: 187\n",
      ".asc files in folder: 186\n",
      "Failed to load: 0 files\n",
      "Unloaded files: []\n",
      "========================================\n",
      "\n",
      "Folder: Mouse\n",
      "Neurons loaded: 38\n",
      "Total files in folder: 39\n",
      ".asc files in folder: 38\n",
      "Failed to load: 0 files\n",
      "Unloaded files: []\n",
      "========================================\n",
      "\n"
     ]
    }
   ],
   "source": [
    "grouped_neurons = fcts.check_and_load_neurons(data_folder, folders_to_treat)"
   ]
  },
  {
   "cell_type": "code",
   "execution_count": 6,
   "id": "860b8a51-c25e-408a-938a-0722c4e90c97",
   "metadata": {},
   "outputs": [
    {
     "name": "stdout",
     "output_type": "stream",
     "text": [
      "[Human] Computed 186 persistence diagrams for apical_dendrites.\n",
      "[Mouse] Computed 38 persistence diagrams for apical_dendrites.\n"
     ]
    }
   ],
   "source": [
    "neurons_human = grouped_neurons[\"Human\"]\n",
    "neurons_mouse = grouped_neurons[\"Mouse\"]\n",
    "\n",
    "## Computing persistence diagram\n",
    "ph_diagrams_human_apical = fcts.compute_apical_diagrams(\n",
    "    neurons_human, \n",
    "    group_name=\"Human\", \n",
    "    neuron_part=\"apical_dendrite\"\n",
    ")\n",
    "\n",
    "## Computing persistence diagram\n",
    "ph_diagrams_mouse_apical = fcts.compute_apical_diagrams(\n",
    "    neurons_mouse, \n",
    "    group_name=\"Mouse\", \n",
    "    neuron_part=\"apical_dendrite\"\n",
    ")"
   ]
  },
  {
   "cell_type": "code",
   "execution_count": null,
   "id": "7fcab911-efe8-4578-b8a1-80484fa1b1fa",
   "metadata": {},
   "outputs": [],
   "source": [
    "#Compute silhouette for all diagrams"
   ]
  }
 ],
 "metadata": {
  "kernelspec": {
   "display_name": "Python (pdm_env)",
   "language": "python",
   "name": "pdm_env"
  },
  "language_info": {
   "codemirror_mode": {
    "name": "ipython",
    "version": 3
   },
   "file_extension": ".py",
   "mimetype": "text/x-python",
   "name": "python",
   "nbconvert_exporter": "python",
   "pygments_lexer": "ipython3",
   "version": "3.11.5"
  }
 },
 "nbformat": 4,
 "nbformat_minor": 5
}
