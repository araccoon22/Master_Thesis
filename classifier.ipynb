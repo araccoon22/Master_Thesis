{
 "cells": [
  {
   "cell_type": "markdown",
   "id": "bf9d89d2-6ff3-466e-bd4b-0a8b7fdefcd7",
   "metadata": {},
   "source": [
    "# Classifier example"
   ]
  },
  {
   "cell_type": "markdown",
   "id": "dc9023dc-3eb3-44a5-994e-a0b1c008d93a",
   "metadata": {},
   "source": [
    "## Librairies"
   ]
  },
  {
   "cell_type": "code",
   "execution_count": 1,
   "id": "65ada80f-981c-4892-9f7b-bba4f7c605f5",
   "metadata": {},
   "outputs": [],
   "source": [
    "import importlib\n",
    "import numpy as np\n",
    "import tmd\n",
    "import os\n",
    "import sklearn.tree\n",
    "import sklearn \n",
    "\n",
    "import classification_functions as fcts\n",
    "from typing import List"
   ]
  },
  {
   "cell_type": "markdown",
   "id": "3d8efb6d-305c-4ff8-ab87-a81074921e0f",
   "metadata": {},
   "source": [
    "## Loading the data"
   ]
  },
  {
   "cell_type": "markdown",
   "id": "d60f9e5e-c96e-4a21-9878-29e17baf74c7",
   "metadata": {},
   "source": [
    "### Checking the neurons in each folder"
   ]
  },
  {
   "cell_type": "code",
   "execution_count": 2,
   "id": "dd1fe9aa-46b8-4b33-812e-696d58792a25",
   "metadata": {},
   "outputs": [
    {
     "name": "stdout",
     "output_type": "stream",
     "text": [
      "Neurons loaded from L5_UPC: 27\n",
      "Neurons loaded from L5_TPC_A: 64\n",
      "Neurons loaded from L5_TPC_B: 38\n",
      "Neurons loaded from L5_TPC_C: 30\n"
     ]
    }
   ],
   "source": [
    "data_path = \"./Data/Reconstructed/\"\n",
    "folders_to_treat = [\"L5_UPC\",\"L5_TPC_A\",\"L5_TPC_B\",\"L5_TPC_C\"]\n",
    "training_neurons = fcts.load_neurons_from_folders(data_path, folders_to_treat)"
   ]
  },
  {
   "cell_type": "code",
   "execution_count": 3,
   "id": "9e2442c8-fb99-45e0-ae50-47c17d84b3f9",
   "metadata": {},
   "outputs": [],
   "source": [
    "cell = data_path+\"L2_TPC_A/C170797A-P1.asc\""
   ]
  },
  {
   "cell_type": "markdown",
   "id": "b26ee42a-4c17-4fe2-8f08-eabace1ef899",
   "metadata": {},
   "source": [
    "## Classification"
   ]
  },
  {
   "cell_type": "code",
   "execution_count": 4,
   "id": "91baa569-ced5-4030-bc39-9fa961ca83ed",
   "metadata": {},
   "outputs": [],
   "source": [
    "classifier_combinations = [\n",
    "    (\"discriminant_analysis\", \"LinearDiscriminantAnalysis\"),\n",
    "    (\"discriminant_analysis\", \"QuadraticDiscriminantAnalysis\"),\n",
    "    (\"tree\", \"DecisionTreeClassifier\"),\n",
    "]"
   ]
  },
  {
   "cell_type": "code",
   "execution_count": 5,
   "id": "fd825524-5c56-43ca-af5d-505e6c40a341",
   "metadata": {},
   "outputs": [
    {
     "name": "stderr",
     "output_type": "stream",
     "text": [
      "C:\\Users\\alexi\\Desktop\\GITS\\Master_thesis\\pdm_env\\Lib\\site-packages\\sklearn\\discriminant_analysis.py:1024: LinAlgWarning: The covariance matrix of class 0 is not full rank. Increasing the value of parameter `reg_param` might help reducing the collinearity.\n",
      "  warnings.warn(\n",
      "C:\\Users\\alexi\\Desktop\\GITS\\Master_thesis\\pdm_env\\Lib\\site-packages\\sklearn\\discriminant_analysis.py:1024: LinAlgWarning: The covariance matrix of class 1 is not full rank. Increasing the value of parameter `reg_param` might help reducing the collinearity.\n",
      "  warnings.warn(\n",
      "C:\\Users\\alexi\\Desktop\\GITS\\Master_thesis\\pdm_env\\Lib\\site-packages\\sklearn\\discriminant_analysis.py:1024: LinAlgWarning: The covariance matrix of class 2 is not full rank. Increasing the value of parameter `reg_param` might help reducing the collinearity.\n",
      "  warnings.warn(\n",
      "C:\\Users\\alexi\\Desktop\\GITS\\Master_thesis\\pdm_env\\Lib\\site-packages\\sklearn\\discriminant_analysis.py:1024: LinAlgWarning: The covariance matrix of class 3 is not full rank. Increasing the value of parameter `reg_param` might help reducing the collinearity.\n",
      "  warnings.warn(\n",
      "C:\\Users\\alexi\\Desktop\\GITS\\Master_thesis\\pdm_env\\Lib\\site-packages\\sklearn\\discriminant_analysis.py:1024: LinAlgWarning: The covariance matrix of class 0 is not full rank. Increasing the value of parameter `reg_param` might help reducing the collinearity.\n",
      "  warnings.warn(\n",
      "C:\\Users\\alexi\\Desktop\\GITS\\Master_thesis\\pdm_env\\Lib\\site-packages\\sklearn\\discriminant_analysis.py:1024: LinAlgWarning: The covariance matrix of class 1 is not full rank. Increasing the value of parameter `reg_param` might help reducing the collinearity.\n",
      "  warnings.warn(\n",
      "C:\\Users\\alexi\\Desktop\\GITS\\Master_thesis\\pdm_env\\Lib\\site-packages\\sklearn\\discriminant_analysis.py:1024: LinAlgWarning: The covariance matrix of class 2 is not full rank. Increasing the value of parameter `reg_param` might help reducing the collinearity.\n",
      "  warnings.warn(\n",
      "C:\\Users\\alexi\\Desktop\\GITS\\Master_thesis\\pdm_env\\Lib\\site-packages\\sklearn\\discriminant_analysis.py:1024: LinAlgWarning: The covariance matrix of class 3 is not full rank. Increasing the value of parameter `reg_param` might help reducing the collinearity.\n",
      "  warnings.warn(\n",
      "C:\\Users\\alexi\\Desktop\\GITS\\Master_thesis\\pdm_env\\Lib\\site-packages\\sklearn\\discriminant_analysis.py:1024: LinAlgWarning: The covariance matrix of class 0 is not full rank. Increasing the value of parameter `reg_param` might help reducing the collinearity.\n",
      "  warnings.warn(\n",
      "C:\\Users\\alexi\\Desktop\\GITS\\Master_thesis\\pdm_env\\Lib\\site-packages\\sklearn\\discriminant_analysis.py:1024: LinAlgWarning: The covariance matrix of class 1 is not full rank. Increasing the value of parameter `reg_param` might help reducing the collinearity.\n",
      "  warnings.warn(\n",
      "C:\\Users\\alexi\\Desktop\\GITS\\Master_thesis\\pdm_env\\Lib\\site-packages\\sklearn\\discriminant_analysis.py:1024: LinAlgWarning: The covariance matrix of class 2 is not full rank. Increasing the value of parameter `reg_param` might help reducing the collinearity.\n",
      "  warnings.warn(\n",
      "C:\\Users\\alexi\\Desktop\\GITS\\Master_thesis\\pdm_env\\Lib\\site-packages\\sklearn\\discriminant_analysis.py:1024: LinAlgWarning: The covariance matrix of class 3 is not full rank. Increasing the value of parameter `reg_param` might help reducing the collinearity.\n",
      "  warnings.warn(\n",
      "C:\\Users\\alexi\\Desktop\\GITS\\Master_thesis\\pdm_env\\Lib\\site-packages\\sklearn\\discriminant_analysis.py:1024: LinAlgWarning: The covariance matrix of class 0 is not full rank. Increasing the value of parameter `reg_param` might help reducing the collinearity.\n",
      "  warnings.warn(\n",
      "C:\\Users\\alexi\\Desktop\\GITS\\Master_thesis\\pdm_env\\Lib\\site-packages\\sklearn\\discriminant_analysis.py:1024: LinAlgWarning: The covariance matrix of class 1 is not full rank. Increasing the value of parameter `reg_param` might help reducing the collinearity.\n",
      "  warnings.warn(\n",
      "C:\\Users\\alexi\\Desktop\\GITS\\Master_thesis\\pdm_env\\Lib\\site-packages\\sklearn\\discriminant_analysis.py:1024: LinAlgWarning: The covariance matrix of class 2 is not full rank. Increasing the value of parameter `reg_param` might help reducing the collinearity.\n",
      "  warnings.warn(\n",
      "C:\\Users\\alexi\\Desktop\\GITS\\Master_thesis\\pdm_env\\Lib\\site-packages\\sklearn\\discriminant_analysis.py:1024: LinAlgWarning: The covariance matrix of class 3 is not full rank. Increasing the value of parameter `reg_param` might help reducing the collinearity.\n",
      "  warnings.warn(\n"
     ]
    },
    {
     "name": "stdout",
     "output_type": "stream",
     "text": [
      "\n",
      "Classifier: discriminant_analysis.LinearDiscriminantAnalysis\n",
      "  L5_UPC: 100.00%\n",
      "  L5_TPC_A: 0.00%\n",
      "  L5_TPC_B: 0.00%\n",
      "  L5_TPC_C: 0.00%\n",
      "\n",
      "Classifier: discriminant_analysis.QuadraticDiscriminantAnalysis\n",
      "  L5_UPC: 0.00%\n",
      "  L5_TPC_A: 100.00%\n",
      "  L5_TPC_B: 0.00%\n",
      "  L5_TPC_C: 0.00%\n",
      "\n",
      "Classifier: tree.DecisionTreeClassifier\n",
      "  L5_UPC: 100.00%\n",
      "  L5_TPC_A: 0.00%\n",
      "  L5_TPC_B: 0.00%\n",
      "  L5_TPC_C: 0.00%\n"
     ]
    }
   ],
   "source": [
    "results = fcts.classify_cell_in_groups(\n",
    "    all_neurons=training_neurons,\n",
    "    types=folders_to_treat,\n",
    "    cell_to_classify=cell,\n",
    "    neurite_type=\"apical_dendrite\",\n",
    "    number_of_trials=4,\n",
    "    classifier_combinations=classifier_combinations,\n",
    ")\n",
    "\n",
    "for clf, prediction in results.items():\n",
    "    print(f\"\\nClassifier: {clf}\")\n",
    "    for group, pct in prediction.items():\n",
    "        print(f\"  {group}: {pct:.2%}\")\n"
   ]
  }
 ],
 "metadata": {
  "kernelspec": {
   "display_name": "Python (pdm_env)",
   "language": "python",
   "name": "pdm_env"
  },
  "language_info": {
   "codemirror_mode": {
    "name": "ipython",
    "version": 3
   },
   "file_extension": ".py",
   "mimetype": "text/x-python",
   "name": "python",
   "nbconvert_exporter": "python",
   "pygments_lexer": "ipython3",
   "version": "3.11.5"
  }
 },
 "nbformat": 4,
 "nbformat_minor": 5
}
