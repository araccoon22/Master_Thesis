{
 "cells": [
  {
   "cell_type": "markdown",
   "id": "bf9d89d2-6ff3-466e-bd4b-0a8b7fdefcd7",
   "metadata": {},
   "source": [
    "## Classifier example"
   ]
  },
  {
   "cell_type": "code",
   "execution_count": 1,
   "id": "65ada80f-981c-4892-9f7b-bba4f7c605f5",
   "metadata": {},
   "outputs": [],
   "source": [
    "import importlib\n",
    "import numpy as np\n",
    "import tmd"
   ]
  },
  {
   "cell_type": "code",
   "execution_count": 2,
   "id": "1289fc56-47bf-40f8-8e27-ed60d9a51f55",
   "metadata": {},
   "outputs": [],
   "source": [
    "list_of_modules = [\"discriminant_analysis\", \"discriminant_analysis\", \"tree\"]\n",
    "\n",
    "list_of_classifiers = [\n",
    "    \"LinearDiscriminantAnalysis\",\n",
    "    \"QuadraticDiscriminantAnalysis\",\n",
    "    \"DecisionTreeClassifier\",\n",
    "]"
   ]
  },
  {
   "cell_type": "code",
   "execution_count": 3,
   "id": "4b3c06c8-0da0-4ecc-b195-52fb143367fa",
   "metadata": {},
   "outputs": [],
   "source": [
    "def train(mod, classifier, data, labels, **kwargs):\n",
    "    \"\"\"Trains the classifier from mod of sklearn with data and targets.\n",
    "\n",
    "    Returns a fited classifier.\n",
    "    \"\"\"\n",
    "    clas_mod = importlib.import_module(\"sklearn.\" + mod)\n",
    "    clf = getattr(clas_mod, classifier)()\n",
    "    clf.set_params(**kwargs)\n",
    "\n",
    "    clf.fit(data, labels)\n",
    "\n",
    "    return clf"
   ]
  },
  {
   "cell_type": "code",
   "execution_count": 4,
   "id": "36ae5f3c-7dc5-4800-aba9-4c1ea8004fca",
   "metadata": {},
   "outputs": [],
   "source": [
    "def predict(clf, data):\n",
    "    \"\"\"Predict label for data for the trained classifier clf.\n",
    "\n",
    "    Returns the index of the predicted class for each datapoint in data.\n",
    "    \"\"\"\n",
    "    predict_label = clf.predict([data])\n",
    "\n",
    "    return predict_label[0]"
   ]
  },
  {
   "cell_type": "code",
   "execution_count": 25,
   "id": "a74de0e3-e54c-42eb-98f3-1cb8c477f81d",
   "metadata": {},
   "outputs": [],
   "source": [
    "def classify_cell_in_groups(\n",
    "    list_of_groups=[\"L2_IPC\", \"L2_TPC_A\"],\n",
    "    cell_to_classify=\"Data/Reconstructed/L2_TPC_A/C280998A-P3.asc\",\n",
    "    neurite_type=\"apical_dendrite\",\n",
    "    classifier_module=list_of_modules[0],\n",
    "    classifier_method=list_of_classifiers[0],\n",
    "    number_of_trials=20,\n",
    "):\n",
    "    \"\"\"Classify the cells in groups.\"\"\"\n",
    "    \n",
    "    # ------------------------ Training dataset --------------------------------\n",
    "    # Load all data from selected folders\n",
    "    groups = [tmd.io.load_population(i) for i in list_of_groups]\n",
    "    # Define labels depending on the number of neurons in each folder\n",
    "    labels = [i + 1 for i, k in enumerate(groups) for j in k.neurons]\n",
    "    # Generate a persistence diagram per neuron\n",
    "    pers_diagrams = [\n",
    "        tmd.methods.get_ph_neuron(j, neurite_type=neurite_type)\n",
    "        for i, k in enumerate(groups)\n",
    "        for j in k.neurons\n",
    "    ]\n",
    "    # Define x-ylimits\n",
    "    xlim, ylim = tmd.analysis.define_limits(pers_diagrams)\n",
    "    # Generate a persistence image for each diagram\n",
    "    pers_images = [\n",
    "        tmd.analysis.persistence_image_data(p, xlim=xlim, ylim=ylim) for p in pers_diagrams\n",
    "    ]\n",
    "    # Create the train dataset from the flatten images\n",
    "    train_dataset = [i.flatten() for i in pers_images]\n",
    "\n",
    "    # ------------------------ Test cell dataset -------------------------------\n",
    "    # Load cell to be classified\n",
    "    neuron2test = tmd.io.load_neuron_from_morphio(cell_to_classify)\n",
    "    # Get persistence diagram from test cell\n",
    "    pers2test = tmd.methods.get_ph_neuron(neuron2test, neurite_type=neurite_type)\n",
    "    # Get persistence image from test cell\n",
    "    pers_image2test = tmd.analysis.persistence_image_data(pers2test, xlim=xlim, ylim=ylim)\n",
    "    # Create the test dataset from the flatten image of the test cell\n",
    "    test_dataset = pers_image2test.flatten()\n",
    "\n",
    "    predict_labels = []\n",
    "    # Train classifier with training images for selected number_of_trials\n",
    "    for i in range(number_of_trials):\n",
    "        clf = train(classifier_module, classifier_method, train_dataset, labels)\n",
    "        # Test classifier with test image and return predictions\n",
    "        predict_labels.append(predict(clf, test_dataset))\n",
    "\n",
    "    percentages = {\n",
    "        groups[i - 1].name: np.float(len(np.where(np.array(predict_labels) == i)[0]))\n",
    "        / len(predict_labels)\n",
    "        for i in np.unique(labels)\n",
    "    }\n",
    "\n",
    "    return percentages"
   ]
  },
  {
   "cell_type": "code",
   "execution_count": 26,
   "id": "79b8b45f-302c-4670-913a-168d01f5c44d",
   "metadata": {},
   "outputs": [
    {
     "ename": "Warning",
     "evalue": "{filename} is not a valid h5, swc or asc file. If asc set use_morphio to True.",
     "output_type": "error",
     "traceback": [
      "\u001b[31m---------------------------------------------------------------------------\u001b[39m",
      "\u001b[31mAssertionError\u001b[39m                            Traceback (most recent call last)",
      "\u001b[36mFile \u001b[39m\u001b[32m~\\Desktop\\GITS\\Master_thesis\\pdm_env\\Lib\\site-packages\\tmd\\io\\io.py:212\u001b[39m, in \u001b[36mload_population\u001b[39m\u001b[34m(neurons, user_tree_types, name, use_morphio)\u001b[39m\n\u001b[32m    211\u001b[39m \u001b[38;5;28;01melse\u001b[39;00m:\n\u001b[32m--> \u001b[39m\u001b[32m212\u001b[39m     \u001b[38;5;28;01massert\u001b[39;00m ext \u001b[38;5;129;01min\u001b[39;00m (\u001b[33m\"\u001b[39m\u001b[33mh5\u001b[39m\u001b[33m\"\u001b[39m, \u001b[33m\"\u001b[39m\u001b[33mswc\u001b[39m\u001b[33m\"\u001b[39m, \u001b[33m\"\u001b[39m\u001b[33masc\u001b[39m\u001b[33m\"\u001b[39m)\n\u001b[32m    213\u001b[39m     pop.append_neuron(\n\u001b[32m    214\u001b[39m         load_neuron_from_morphio(filename, user_tree_types=user_tree_types)\n\u001b[32m    215\u001b[39m     )\n",
      "\u001b[31mAssertionError\u001b[39m: ",
      "\nThe above exception was the direct cause of the following exception:\n",
      "\u001b[31mWarning\u001b[39m                                   Traceback (most recent call last)",
      "\u001b[36mCell\u001b[39m\u001b[36m \u001b[39m\u001b[32mIn[26]\u001b[39m\u001b[32m, line 1\u001b[39m\n\u001b[32m----> \u001b[39m\u001b[32m1\u001b[39m \u001b[43mclassify_cell_in_groups\u001b[49m\u001b[43m(\u001b[49m\n\u001b[32m      2\u001b[39m \u001b[43m    \u001b[49m\u001b[43mlist_of_groups\u001b[49m\u001b[43m=\u001b[49m\u001b[43m[\u001b[49m\u001b[33;43m\"\u001b[39;49m\u001b[33;43mData/Reconstructed/L2_IPC\u001b[39;49m\u001b[33;43m\"\u001b[39;49m\u001b[43m,\u001b[49m\u001b[43m \u001b[49m\u001b[33;43m\"\u001b[39;49m\u001b[33;43mData/Reconstructed/L2_TPC_A\u001b[39;49m\u001b[33;43m\"\u001b[39;49m\u001b[43m]\u001b[49m\u001b[43m,\u001b[49m\n\u001b[32m      3\u001b[39m \u001b[43m    \u001b[49m\u001b[43mcell_to_classify\u001b[49m\u001b[43m=\u001b[49m\u001b[33;43m\"\u001b[39;49m\u001b[33;43mData/Reconstructed/L2_TPC_A/C280998A-P3.asc\u001b[39;49m\u001b[33;43m\"\u001b[39;49m\u001b[43m,\u001b[49m\n\u001b[32m      4\u001b[39m \u001b[43m    \u001b[49m\u001b[43mneurite_type\u001b[49m\u001b[43m=\u001b[49m\u001b[33;43m\"\u001b[39;49m\u001b[33;43mapical_dendrite\u001b[39;49m\u001b[33;43m\"\u001b[39;49m\u001b[43m,\u001b[49m\n\u001b[32m      5\u001b[39m \u001b[43m    \u001b[49m\u001b[43mclassifier_module\u001b[49m\u001b[43m=\u001b[49m\u001b[43mlist_of_modules\u001b[49m\u001b[43m[\u001b[49m\u001b[32;43m0\u001b[39;49m\u001b[43m]\u001b[49m\u001b[43m,\u001b[49m\n\u001b[32m      6\u001b[39m \u001b[43m    \u001b[49m\u001b[43mclassifier_method\u001b[49m\u001b[43m=\u001b[49m\u001b[43mlist_of_classifiers\u001b[49m\u001b[43m[\u001b[49m\u001b[32;43m0\u001b[39;49m\u001b[43m]\u001b[49m\u001b[43m,\u001b[49m\n\u001b[32m      7\u001b[39m \u001b[43m    \u001b[49m\u001b[43mnumber_of_trials\u001b[49m\u001b[43m=\u001b[49m\u001b[32;43m20\u001b[39;49m\u001b[43m,\u001b[49m\n\u001b[32m      8\u001b[39m \u001b[43m)\u001b[49m\n",
      "\u001b[36mCell\u001b[39m\u001b[36m \u001b[39m\u001b[32mIn[25]\u001b[39m\u001b[32m, line 13\u001b[39m, in \u001b[36mclassify_cell_in_groups\u001b[39m\u001b[34m(list_of_groups, cell_to_classify, neurite_type, classifier_module, classifier_method, number_of_trials)\u001b[39m\n\u001b[32m      9\u001b[39m \u001b[38;5;250m\u001b[39m\u001b[33;03m\"\"\"Classify the cells in groups.\"\"\"\u001b[39;00m\n\u001b[32m     11\u001b[39m \u001b[38;5;66;03m# ------------------------ Training dataset --------------------------------\u001b[39;00m\n\u001b[32m     12\u001b[39m \u001b[38;5;66;03m# Load all data from selected folders\u001b[39;00m\n\u001b[32m---> \u001b[39m\u001b[32m13\u001b[39m groups = \u001b[43m[\u001b[49m\u001b[43mtmd\u001b[49m\u001b[43m.\u001b[49m\u001b[43mio\u001b[49m\u001b[43m.\u001b[49m\u001b[43mload_population\u001b[49m\u001b[43m(\u001b[49m\u001b[43mi\u001b[49m\u001b[43m,\u001b[49m\u001b[43m \u001b[49m\u001b[43muse_morphio\u001b[49m\u001b[43m=\u001b[49m\u001b[38;5;28;43;01mTrue\u001b[39;49;00m\u001b[43m)\u001b[49m\u001b[43m \u001b[49m\u001b[38;5;28;43;01mfor\u001b[39;49;00m\u001b[43m \u001b[49m\u001b[43mi\u001b[49m\u001b[43m \u001b[49m\u001b[38;5;129;43;01min\u001b[39;49;00m\u001b[43m \u001b[49m\u001b[43mlist_of_groups\u001b[49m\u001b[43m]\u001b[49m\n\u001b[32m     14\u001b[39m \u001b[38;5;66;03m# Define labels depending on the number of neurons in each folder\u001b[39;00m\n\u001b[32m     15\u001b[39m labels = [i + \u001b[32m1\u001b[39m \u001b[38;5;28;01mfor\u001b[39;00m i, k \u001b[38;5;129;01min\u001b[39;00m \u001b[38;5;28menumerate\u001b[39m(groups) \u001b[38;5;28;01mfor\u001b[39;00m j \u001b[38;5;129;01min\u001b[39;00m k.neurons]\n",
      "\u001b[36mCell\u001b[39m\u001b[36m \u001b[39m\u001b[32mIn[25]\u001b[39m\u001b[32m, line 13\u001b[39m, in \u001b[36m<listcomp>\u001b[39m\u001b[34m(.0)\u001b[39m\n\u001b[32m      9\u001b[39m \u001b[38;5;250m\u001b[39m\u001b[33;03m\"\"\"Classify the cells in groups.\"\"\"\u001b[39;00m\n\u001b[32m     11\u001b[39m \u001b[38;5;66;03m# ------------------------ Training dataset --------------------------------\u001b[39;00m\n\u001b[32m     12\u001b[39m \u001b[38;5;66;03m# Load all data from selected folders\u001b[39;00m\n\u001b[32m---> \u001b[39m\u001b[32m13\u001b[39m groups = [\u001b[43mtmd\u001b[49m\u001b[43m.\u001b[49m\u001b[43mio\u001b[49m\u001b[43m.\u001b[49m\u001b[43mload_population\u001b[49m\u001b[43m(\u001b[49m\u001b[43mi\u001b[49m\u001b[43m,\u001b[49m\u001b[43m \u001b[49m\u001b[43muse_morphio\u001b[49m\u001b[43m=\u001b[49m\u001b[38;5;28;43;01mTrue\u001b[39;49;00m\u001b[43m)\u001b[49m \u001b[38;5;28;01mfor\u001b[39;00m i \u001b[38;5;129;01min\u001b[39;00m list_of_groups]\n\u001b[32m     14\u001b[39m \u001b[38;5;66;03m# Define labels depending on the number of neurons in each folder\u001b[39;00m\n\u001b[32m     15\u001b[39m labels = [i + \u001b[32m1\u001b[39m \u001b[38;5;28;01mfor\u001b[39;00m i, k \u001b[38;5;129;01min\u001b[39;00m \u001b[38;5;28menumerate\u001b[39m(groups) \u001b[38;5;28;01mfor\u001b[39;00m j \u001b[38;5;129;01min\u001b[39;00m k.neurons]\n",
      "\u001b[36mFile \u001b[39m\u001b[32m~\\Desktop\\GITS\\Master_thesis\\pdm_env\\Lib\\site-packages\\tmd\\io\\io.py:218\u001b[39m, in \u001b[36mload_population\u001b[39m\u001b[34m(neurons, user_tree_types, name, use_morphio)\u001b[39m\n\u001b[32m    213\u001b[39m         pop.append_neuron(\n\u001b[32m    214\u001b[39m             load_neuron_from_morphio(filename, user_tree_types=user_tree_types)\n\u001b[32m    215\u001b[39m         )\n\u001b[32m    217\u001b[39m \u001b[38;5;28;01mexcept\u001b[39;00m \u001b[38;5;167;01mAssertionError\u001b[39;00m \u001b[38;5;28;01mas\u001b[39;00m exc:\n\u001b[32m--> \u001b[39m\u001b[32m218\u001b[39m     \u001b[38;5;28;01mraise\u001b[39;00m \u001b[38;5;167;01mWarning\u001b[39;00m(\n\u001b[32m    219\u001b[39m         \u001b[33m\"\u001b[39m\u001b[38;5;132;01m{filename}\u001b[39;00m\u001b[33m is not a valid h5, swc or asc file. If asc set use_morphio to True.\u001b[39m\u001b[33m\"\u001b[39m\n\u001b[32m    220\u001b[39m     ) \u001b[38;5;28;01mfrom\u001b[39;00m\u001b[38;5;250m \u001b[39m\u001b[34;01mexc\u001b[39;00m\n\u001b[32m    221\u001b[39m \u001b[38;5;28;01mexcept\u001b[39;00m LoadNeuronError:\n\u001b[32m    222\u001b[39m     \u001b[38;5;28mprint\u001b[39m(\u001b[33mf\u001b[39m\u001b[33m\"\u001b[39m\u001b[33mFile failed to load: \u001b[39m\u001b[38;5;132;01m{\u001b[39;00mfilename\u001b[38;5;132;01m}\u001b[39;00m\u001b[33m\"\u001b[39m)\n",
      "\u001b[31mWarning\u001b[39m: {filename} is not a valid h5, swc or asc file. If asc set use_morphio to True."
     ]
    }
   ],
   "source": [
    "classify_cell_in_groups(\n",
    "    list_of_groups=[\"Data/Reconstructed/L2_IPC\", \"Data/Reconstructed/L2_TPC_A\"],\n",
    "    cell_to_classify=\"Data/Reconstructed/L2_TPC_A/C280998A-P3.asc\",\n",
    "    neurite_type=\"apical_dendrite\",\n",
    "    classifier_module=list_of_modules[0],\n",
    "    classifier_method=list_of_classifiers[0],\n",
    "    number_of_trials=20,\n",
    ")"
   ]
  },
  {
   "cell_type": "code",
   "execution_count": null,
   "id": "69c42f28-19ab-4677-a4b7-5db6f7bf7aef",
   "metadata": {},
   "outputs": [],
   "source": []
  }
 ],
 "metadata": {
  "kernelspec": {
   "display_name": "Python (pdm_env)",
   "language": "python",
   "name": "pdm_env"
  },
  "language_info": {
   "codemirror_mode": {
    "name": "ipython",
    "version": 3
   },
   "file_extension": ".py",
   "mimetype": "text/x-python",
   "name": "python",
   "nbconvert_exporter": "python",
   "pygments_lexer": "ipython3",
   "version": "3.11.5"
  }
 },
 "nbformat": 4,
 "nbformat_minor": 5
}
