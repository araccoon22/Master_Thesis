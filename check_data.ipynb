{
 "cells": [
  {
   "cell_type": "markdown",
   "id": "91f3ff88-f177-40e8-bb2e-6ac89184577d",
   "metadata": {},
   "source": [
    "## Check data\n",
    "Just a quick check to see whether we can import all the data"
   ]
  },
  {
   "cell_type": "code",
   "execution_count": 1,
   "id": "812ab781-e1b5-4f5e-bfcd-589dcd7a3561",
   "metadata": {},
   "outputs": [],
   "source": [
    "import tmd\n",
    "from tmd.view import plot\n",
    "from tmd.view import view\n",
    "\n",
    "import matplotlib.pyplot as plt\n",
    "import os\n",
    "import functions as fcts"
   ]
  },
  {
   "cell_type": "code",
   "execution_count": 2,
   "id": "c332fc05-c352-40af-b088-3778e7a4bd18",
   "metadata": {},
   "outputs": [],
   "source": [
    "data_folder = \"Data/ExamplesL23PC\"\n",
    "folders_to_treat = ['Human','Mouse']"
   ]
  },
  {
   "cell_type": "code",
   "execution_count": 3,
   "id": "7d4e66e0-730c-40d5-8aae-42a41474ee76",
   "metadata": {},
   "outputs": [
    {
     "name": "stdout",
     "output_type": "stream",
     "text": [
      "Folder: Human\n",
      "Neurons loaded: 186\n",
      "Total files in folder: 187\n",
      ".asc files in folder: 186\n",
      "Failed to load: 0 files\n",
      "Unloaded files: []\n",
      "========================================\n",
      "\n",
      "Folder: Mouse\n",
      "Neurons loaded: 38\n",
      "Total files in folder: 39\n",
      ".asc files in folder: 38\n",
      "Failed to load: 0 files\n",
      "Unloaded files: []\n",
      "========================================\n",
      "\n"
     ]
    }
   ],
   "source": [
    "fcts.check_and_load_neurons(data_folder, folders_to_treat)"
   ]
  },
  {
   "cell_type": "code",
   "execution_count": null,
   "id": "3218c6b8-71a4-4267-a8b3-f5a92f5cd5dd",
   "metadata": {},
   "outputs": [],
   "source": [
    "#Computing persistence diagram, only for the apical dentrite\n",
    "\n",
    "#Human\n",
    "ph_apical = tmd.methods.get_ph_neuron(neu, neurite_type=\"apical_dendrite\")"
   ]
  }
 ],
 "metadata": {
  "kernelspec": {
   "display_name": "Python (pdm_env)",
   "language": "python",
   "name": "pdm_env"
  },
  "language_info": {
   "codemirror_mode": {
    "name": "ipython",
    "version": 3
   },
   "file_extension": ".py",
   "mimetype": "text/x-python",
   "name": "python",
   "nbconvert_exporter": "python",
   "pygments_lexer": "ipython3",
   "version": "3.11.5"
  }
 },
 "nbformat": 4,
 "nbformat_minor": 5
}
