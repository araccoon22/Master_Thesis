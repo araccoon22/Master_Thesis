{
 "cells": [
  {
   "cell_type": "markdown",
   "id": "f24da3d1-5336-4dd9-9ae0-c2fa0d812aa1",
   "metadata": {},
   "source": [
    "### Example to extract the persistence diagram from a neuronal tree"
   ]
  },
  {
   "cell_type": "code",
   "execution_count": null,
   "id": "c1c08839-76d5-4547-a680-eec469c7c898",
   "metadata": {},
   "outputs": [],
   "source": [
    "# Step 1: Import the tmd module\n",
    "import tmd\n",
    "from tmd.view import plot\n",
    "from tmd.view import view"
   ]
  },
  {
   "cell_type": "code",
   "execution_count": null,
   "id": "1daf8a73-3122-4137-8d85-6aabb93d4e5c",
   "metadata": {},
   "outputs": [],
   "source": [
    "# Step 2: Load your morphology\n",
    "filename = \"./Data/Reconstructed/C190898A-I1.asc\"\n",
    "neu = tmd.io.load_neuron(filename)"
   ]
  },
  {
   "cell_type": "code",
   "execution_count": null,
   "id": "e36ba3f6-3f69-4b00-bfc0-5218aaf4f02d",
   "metadata": {},
   "outputs": [],
   "source": [
    "# Step 3: Extract the ph diagram of a tree\n",
    "tree = neu.neurites[0]\n",
    "ph = tmd.methods.get_persistence_diagram(tree)"
   ]
  },
  {
   "cell_type": "code",
   "execution_count": null,
   "id": "96f4287c-1c60-4d91-bc97-f93729907e48",
   "metadata": {},
   "outputs": [],
   "source": [
    "# Step 4: Extract the ph diagram of a neuron's trees\n",
    "ph_neu = tmd.methods.get_ph_neuron(neu)"
   ]
  },
  {
   "cell_type": "code",
   "execution_count": null,
   "id": "2ae4fb7a-7e5c-41e3-910f-edadcc52dc1e",
   "metadata": {},
   "outputs": [],
   "source": [
    "# Step 5: Extract the ph diagram of a neuron's trees,\n",
    "# depending on the neurite_type\n",
    "ph_apical = tmd.methods.get_ph_neuron(neu, neurite_type=\"apical_dendrite\")\n",
    "ph_axon = tmd.methods.get_ph_neuron(neu, neurite_type=\"axon\")\n",
    "ph_basal = tmd.methods.get_ph_neuron(neu, neurite_type=\"basal_dendrite\")"
   ]
  },
  {
   "cell_type": "code",
   "execution_count": null,
   "id": "89440925-0621-445d-b9b4-ea5ab6d964d8",
   "metadata": {},
   "outputs": [],
   "source": [
    "# Step 6: Plot the extracted topological data with three different ways\n",
    "\n",
    "# Visualize the neuron\n",
    "view.neuron(neu)"
   ]
  },
  {
   "cell_type": "code",
   "execution_count": null,
   "id": "5716a33d-fe65-4bf9-a16e-d5a336db2870",
   "metadata": {},
   "outputs": [],
   "source": [
    "# Visualize a selected neurite type or multiple of them\n",
    "view.neuron(neu, neurite_type=[\"apical_dendrite\"])"
   ]
  },
  {
   "cell_type": "code",
   "execution_count": null,
   "id": "c35dbe7f-a0c1-4a74-a945-e8d6fe7316cb",
   "metadata": {},
   "outputs": [],
   "source": [
    "# Visualize the persistence diagram\n",
    "plot.diagram(ph_apical)"
   ]
  },
  {
   "cell_type": "code",
   "execution_count": null,
   "id": "6fe86744-f62c-48e4-9d6e-27c62de46100",
   "metadata": {},
   "outputs": [],
   "source": [
    "# Visualize the persistence barcode\n",
    "plot.barcode(ph_apical)"
   ]
  },
  {
   "cell_type": "code",
   "execution_count": 14,
   "id": "d6831eed-2942-43b4-b4ec-2ca88bff0ac5",
   "metadata": {},
   "outputs": [
    {
     "ename": "NameError",
     "evalue": "name 'ph_apical' is not defined",
     "output_type": "error",
     "traceback": [
      "\u001b[31m---------------------------------------------------------------------------\u001b[39m",
      "\u001b[31mNameError\u001b[39m                                 Traceback (most recent call last)",
      "\u001b[36mCell\u001b[39m\u001b[36m \u001b[39m\u001b[32mIn[14]\u001b[39m\u001b[32m, line 2\u001b[39m\n\u001b[32m      1\u001b[39m \u001b[38;5;66;03m# Visualize the persistence image\u001b[39;00m\n\u001b[32m----> \u001b[39m\u001b[32m2\u001b[39m plot.persistence_image(\u001b[43mph_apical\u001b[49m)\n",
      "\u001b[31mNameError\u001b[39m: name 'ph_apical' is not defined"
     ]
    }
   ],
   "source": [
    "# Visualize the persistence image\n",
    "plot.persistence_image(ph_apical)"
   ]
  }
 ],
 "metadata": {
  "kernelspec": {
   "display_name": "Python (pdm_env)",
   "language": "python",
   "name": "pdm_env"
  },
  "language_info": {
   "codemirror_mode": {
    "name": "ipython",
    "version": 3
   },
   "file_extension": ".py",
   "mimetype": "text/x-python",
   "name": "python",
   "nbconvert_exporter": "python",
   "pygments_lexer": "ipython3",
   "version": "3.11.5"
  }
 },
 "nbformat": 4,
 "nbformat_minor": 5
}
