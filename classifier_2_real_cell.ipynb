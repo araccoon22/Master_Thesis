{
 "cells": [
  {
   "cell_type": "code",
   "execution_count": 1,
   "id": "482d4a2d-280f-4deb-8305-6248d7950211",
   "metadata": {},
   "outputs": [],
   "source": [
    "import importlib\n",
    "import numpy as np\n",
    "import tmd\n",
    "import os\n",
    "import sklearn.tree\n",
    "import sklearn \n",
    "\n",
    "import classification_functions as fcts\n",
    "from typing import List, Dict"
   ]
  },
  {
   "cell_type": "code",
   "execution_count": 2,
   "id": "65a361e2-8615-4e1b-95c9-ea8666f5d007",
   "metadata": {},
   "outputs": [
    {
     "name": "stdout",
     "output_type": "stream",
     "text": [
      "Neurons loaded from L5_UPC: 27\n",
      "Neurons loaded from L5_TPC_A: 64\n",
      "Neurons loaded from L5_TPC_B: 38\n",
      "Neurons loaded from L5_TPC_C: 30\n"
     ]
    }
   ],
   "source": [
    "data_path = \"./Data/Reconstructed/\"\n",
    "folders_to_treat = [\"L5_UPC\",\"L5_TPC_A\",\"L5_TPC_B\",\"L5_TPC_C\"]\n",
    "training_neurons = fcts.load_neurons_from_folders(data_path, folders_to_treat)"
   ]
  },
  {
   "cell_type": "code",
   "execution_count": 3,
   "id": "52887871-ae8e-4639-8ce4-342d79d68ce6",
   "metadata": {},
   "outputs": [],
   "source": [
    "cell = data_path+\"L2_TPC_A/C170797A-P1.asc\""
   ]
  },
  {
   "cell_type": "code",
   "execution_count": 4,
   "id": "e9dd1b90-6683-48bd-8d79-336b21d8fec7",
   "metadata": {},
   "outputs": [],
   "source": [
    "def load_data(\n",
    "    all_neurons: Dict[str, List],\n",
    "    types: List[str],\n",
    "    neurite_type: str,\n",
    "    pers_hom_function: str = \"radial_distances\",\n",
    "):\n",
    "    \"\"\"\n",
    "    Load persistence diagrams and labels from a neuron dictionary.\n",
    "\n",
    "    Parameters:\n",
    "        all_neurons (dict): Dictionary of {group_name: list_of_neurons}\n",
    "        types (list): List of group names to use\n",
    "        neurite_type (str): 'basal_dendrite', 'apical_dendrite', 'axon', 'dendrite'\n",
    "        pers_hom_function (str): Feature type for persistence (e.g. 'radial_distances', 'path')\n",
    "\n",
    "    Returns:\n",
    "        labels (list): List of integer labels for each neuron\n",
    "        pers_diagrams (list): List of persistence diagrams\n",
    "    \"\"\"\n",
    "\n",
    "    labels = []\n",
    "    pers_diagrams = []\n",
    "\n",
    "    for label_index, group in enumerate(types):\n",
    "        neurons = all_neurons[group]\n",
    "        for neuron in neurons:\n",
    "            diag = tmd.methods.get_ph_neuron(neuron, feature=pers_hom_function, neurite_type=neurite_type)\n",
    "            if diag:  # Only keep non-empty diagrams\n",
    "                pers_diagrams.append(diag)\n",
    "                labels.append(label_index + 1)  # Label is 1-based index\n",
    "\n",
    "    return labels, pers_diagrams"
   ]
  },
  {
   "cell_type": "markdown",
   "id": "914b3103-a087-4f7e-bc1b-c9d45079bd57",
   "metadata": {},
   "source": [
    "### Data Loading"
   ]
  },
  {
   "cell_type": "code",
   "execution_count": 5,
   "id": "c30f40d5-0d3b-4ed1-899f-6f51eefa3070",
   "metadata": {},
   "outputs": [],
   "source": [
    "labels, pers_diagrams = load_data(\n",
    "    all_neurons = training_neurons,\n",
    "    types = folders_to_treat,\n",
    "    neurite_type = \"apical_dendrite\",\n",
    "    pers_hom_function = \"radial_distances\"\n",
    ")\n"
   ]
  },
  {
   "cell_type": "markdown",
   "id": "fa4ba11c-d081-4b50-9c8d-3ecf4de0aa7b",
   "metadata": {},
   "source": [
    "### Make images"
   ]
  },
  {
   "cell_type": "code",
   "execution_count": 6,
   "id": "477bf19e-f8b9-4895-815f-3b763ea03ebf",
   "metadata": {},
   "outputs": [],
   "source": [
    "xlim, ylim = tmd.vectorizations.get_limits(pers_diagrams)\n",
    "train_images = [\n",
    "    tmd.analysis.persistence_image_data(d, xlim=xlim, ylim=ylim).flatten()\n",
    "    for d in pers_diagrams\n",
    "]\n",
    "\n",
    "X_train = [\n",
    "    tmd.analysis.persistence_image_data(d, xlim=xlim, ylim=ylim).flatten()\n",
    "    for d in pers_diagrams\n",
    "]\n",
    "y_train = labels"
   ]
  },
  {
   "cell_type": "markdown",
   "id": "2bccfa9c-07b8-48e8-aafe-a969b31dcbc7",
   "metadata": {},
   "source": [
    "### Training Dataset"
   ]
  },
  {
   "cell_type": "code",
   "execution_count": 7,
   "id": "543d3ab7-957e-4fea-b66e-777572d494d7",
   "metadata": {},
   "outputs": [],
   "source": [
    "test_neuron = tmd.io.load_neuron_from_morphio(cell)\n",
    "pers2test = tmd.methods.get_ph_neuron(test_neuron, feature=\"radial_distances\", neurite_type=\"apical_dendrite\")\n",
    "pers_image2test = tmd.analysis.persistence_image_data(pers2test, xlim=xlim, ylim=ylim)\n",
    "X_test = [pers_image2test.flatten()]"
   ]
  },
  {
   "cell_type": "code",
   "execution_count": 8,
   "id": "7f5edb22-7d3c-4fa4-a209-cca7c0d75266",
   "metadata": {},
   "outputs": [
    {
     "name": "stdout",
     "output_type": "stream",
     "text": [
      "Prediction: [1]\n"
     ]
    }
   ],
   "source": [
    "from sklearn.tree import DecisionTreeClassifier\n",
    "\n",
    "# Train\n",
    "cls = DecisionTreeClassifier()\n",
    "cls.fit(X_train, y_train)\n",
    "\n",
    "# Predict\n",
    "print(\"Prediction:\", cls.predict(X_test))"
   ]
  }
 ],
 "metadata": {
  "kernelspec": {
   "display_name": "Python (pdm_env)",
   "language": "python",
   "name": "pdm_env"
  },
  "language_info": {
   "codemirror_mode": {
    "name": "ipython",
    "version": 3
   },
   "file_extension": ".py",
   "mimetype": "text/x-python",
   "name": "python",
   "nbconvert_exporter": "python",
   "pygments_lexer": "ipython3",
   "version": "3.11.5"
  }
 },
 "nbformat": 4,
 "nbformat_minor": 5
}
