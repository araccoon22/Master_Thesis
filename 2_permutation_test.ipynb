{
 "cells": [
  {
   "cell_type": "markdown",
   "id": "919eff09-1195-4873-9e86-ae6741f4e68a",
   "metadata": {},
   "source": [
    "# Difference between Human and Mouse Dataset: Permutation test\n",
    "\n",
    "This notebook follows the notebook on confidence bands of persistent silhouette. After obtaining different silhouettes curve for human and mouses, we want to run two sample permutation test, to assess the significance of the observed topological differences."
   ]
  },
  {
   "cell_type": "markdown",
   "id": "460ba8fc-7a5e-496a-86d9-9fea3f2a4bef",
   "metadata": {},
   "source": [
    "# Preprocessing"
   ]
  },
  {
   "cell_type": "code",
   "execution_count": 1,
   "id": "040a772f-96ea-447f-b1fb-361b7ed8b8aa",
   "metadata": {},
   "outputs": [],
   "source": [
    "import tmd\n",
    "from tmd.view import plot\n",
    "from tmd.view import view\n",
    "\n",
    "import gtda\n",
    "from gtda.diagrams import Silhouette\n",
    "\n",
    "import matplotlib.pyplot as plt\n",
    "import numpy as np\n",
    "import os\n",
    "import functions as fcts\n",
    "\n",
    "import inspect"
   ]
  },
  {
   "cell_type": "markdown",
   "id": "1eec0e2c-331d-453c-b7c3-1c10a1cf1e98",
   "metadata": {},
   "source": [
    "The data of Humans and Mices are separated in two distinct folders. Because the structure of a tree is not supposed to have cycle, we treat the data in Homology Dimension 0."
   ]
  },
  {
   "cell_type": "markdown",
   "id": "63703471-307e-4cb1-b83a-fb1b84f2ab2e",
   "metadata": {},
   "source": [
    "### Loading and checking the data"
   ]
  },
  {
   "cell_type": "code",
   "execution_count": 2,
   "id": "bef5a8fa-2cd2-42eb-bd14-ec21ebe1eda1",
   "metadata": {},
   "outputs": [],
   "source": [
    "data_folder = \"Data/ExamplesL23PC\"\n",
    "folders_to_treat = ['Human','Mouse']"
   ]
  },
  {
   "cell_type": "code",
   "execution_count": 3,
   "id": "5aaf8396-e33f-4775-81ab-3442b68130a9",
   "metadata": {},
   "outputs": [
    {
     "name": "stdout",
     "output_type": "stream",
     "text": [
      "Folder: Human\n",
      "Neurons loaded: 186\n",
      "Total files in folder: 187\n",
      ".asc files in folder: 186\n",
      "Failed to load: 0 files\n",
      "Unloaded files: []\n",
      "========================================\n",
      "\n",
      "Folder: Mouse\n",
      "Neurons loaded: 38\n",
      "Total files in folder: 39\n",
      ".asc files in folder: 38\n",
      "Failed to load: 0 files\n",
      "Unloaded files: []\n",
      "========================================\n",
      "\n"
     ]
    }
   ],
   "source": [
    "grouped_neurons = fcts.check_and_load_neurons(data_folder, folders_to_treat)"
   ]
  },
  {
   "cell_type": "markdown",
   "id": "81fc6e49-5eeb-4ba9-94e7-f6ee6d7de800",
   "metadata": {},
   "source": [
    "### Computing silhouettes"
   ]
  },
  {
   "cell_type": "markdown",
   "id": "664487ee-b5cd-40d4-bde6-2d6073d381b3",
   "metadata": {},
   "source": [
    "<div class=\"alert alert-block alert-success\">\n",
    "    \n",
    "In the following box, we can modify multiple parameters:\n",
    "- `neuron_part`: can either be *basal_dendrite*, *apical_dendrite*, *axon* or *dendrite*. It depends on which part of the neuron with want to take into account\n",
    "- `distance_type`: could either be *radial_distances* or *path_distances*\n",
    "\n",
    "</div>"
   ]
  },
  {
   "cell_type": "code",
   "execution_count": 4,
   "id": "5ef9e812-29a4-43ba-af40-24f6f9dd1f22",
   "metadata": {},
   "outputs": [
    {
     "name": "stdout",
     "output_type": "stream",
     "text": [
      "[Mouse] Computed 38 persistence diagrams for apical_dendrites.\n"
     ]
    }
   ],
   "source": [
    "neurons_mouse = grouped_neurons[\"Mouse\"]\n",
    "\n",
    "# Computing persistence diagram for mouses\n",
    "ph_diagrams_mouse = fcts.compute_diagrams(\n",
    "    neurons_mouse, \n",
    "    group_name=\"Mouse\", \n",
    "    neuron_part=\"apical_dendrite\",\n",
    "    distance_type=\"path_distances\"\n",
    ")\n",
    "\n",
    "formatted_mouse = fcts.format_diagrams_for_gtda(ph_diagrams_mouse)\n",
    "padded_mouse= fcts.pad_diagrams(formatted_mouse)\n",
    "\n",
    "sil = Silhouette()\n",
    "silhouettes_mouse = sil.fit_transform(padded_mouse)"
   ]
  },
  {
   "cell_type": "code",
   "execution_count": 5,
   "id": "03d0ff48-8a57-4625-869c-b530cc828b47",
   "metadata": {},
   "outputs": [
    {
     "name": "stdout",
     "output_type": "stream",
     "text": [
      "[Human] Computed 186 persistence diagrams for apical_dendrites.\n"
     ]
    }
   ],
   "source": [
    "neurons_human = grouped_neurons[\"Human\"]\n",
    "\n",
    "# Computing persistence diagram for humans (gives the list of the coordinates of all the persictence diagrams)\n",
    "ph_diagrams_human = fcts.compute_diagrams(\n",
    "    neurons_human, \n",
    "    group_name=\"Human\", \n",
    "    neuron_part=\"apical_dendrite\",\n",
    "    distance_type=\"path_distances\"\n",
    ")\n",
    "\n",
    "formatted_human = fcts.format_diagrams_for_gtda(ph_diagrams_human)\n",
    "padded_human = fcts.pad_diagrams(formatted_human)\n",
    "\n",
    "sil = Silhouette()\n",
    "silhouettes_human = sil.fit_transform(padded_human)"
   ]
  },
  {
   "cell_type": "markdown",
   "id": "76f4defd-ae1f-499b-b061-0d66638b2b7f",
   "metadata": {},
   "source": [
    "# Permutation test"
   ]
  },
  {
   "cell_type": "markdown",
   "id": "650f6991-d265-47f0-86c6-d17ef10a5963",
   "metadata": {},
   "source": [
    "## Statistics"
   ]
  },
  {
   "cell_type": "code",
   "execution_count": 6,
   "id": "0bf0e131-cd34-4d6b-8921-0ea5c27a4f84",
   "metadata": {},
   "outputs": [
    {
     "name": "stdout",
     "output_type": "stream",
     "text": [
      "Observed test statistic: 37.7985\n",
      "P-value: 0.0020\n"
     ]
    }
   ],
   "source": [
    "p_value, observed_stat, null_dist = fcts.permutation_test_silhouettes(\n",
    "    silhouettes_human,\n",
    "    silhouettes_mouse,\n",
    "    n_permutations=1000,\n",
    "    metric='linf'  # or 'l2'\n",
    ")\n",
    "\n",
    "print(f\"Observed test statistic: {observed_stat:.4f}\")\n",
    "print(f\"P-value: {p_value:.4f}\")"
   ]
  },
  {
   "cell_type": "markdown",
   "id": "ea2a0759-cebc-41d3-abad-2785576d2c1f",
   "metadata": {},
   "source": [
    "## Plots"
   ]
  },
  {
   "cell_type": "code",
   "execution_count": 7,
   "id": "6358dd7e-5aad-41e2-9923-342f8026de51",
   "metadata": {},
   "outputs": [
    {
     "data": {
      "image/png": "[encoded data removed]",
      "text/plain": [
       "<Figure size 640x480 with 1 Axes>"
      ]
     },
     "metadata": {},
     "output_type": "display_data"
    }
   ],
   "source": [
    "plt.hist(null_dist, bins=30, alpha=0.7, label='Null distribution')\n",
    "plt.axvline(observed_stat, color='red', linestyle='--', label='Observed stat')\n",
    "plt.title('Permutation Test: Human vs Mouse (L∞ distance)')\n",
    "plt.xlabel('Test statistic')\n",
    "plt.ylabel('Frequency')\n",
    "plt.legend()\n",
    "plt.show()"
   ]
  }
 ],
 "metadata": {
  "kernelspec": {
   "display_name": "Python (pdm_env)",
   "language": "python",
   "name": "pdm_env"
  },
  "language_info": {
   "codemirror_mode": {
    "name": "ipython",
    "version": 3
   },
   "file_extension": ".py",
   "mimetype": "text/x-python",
   "name": "python",
   "nbconvert_exporter": "python",
   "pygments_lexer": "ipython3",
   "version": "3.11.5"
  }
 },
 "nbformat": 4,
 "nbformat_minor": 5
}
