{
 "cells": [
  {
   "cell_type": "markdown",
   "id": "919eff09-1195-4873-9e86-ae6741f4e68a",
   "metadata": {},
   "source": [
    "# Difference between Human and Mouse Dataset: Permutation test\n",
    "\n",
    "This notebook follows the notebook on confidence bands of persistent silhouette. After obtaining different silhouettes curve for human and mouses, we want to run two sample permutation test\n",
    "5. Perform Statistical Testing\n",
    "    - Run a two-sample permutation test to assess the significance of the observed topological differences.\n",
    "6. Visualization & Interpretation\n",
    "    - Plot mean functions, confidence bands, and difference curves.\n",
    "    - Discuss findings in light of biological relevance."
   ]
  }
 ],
 "metadata": {
  "kernelspec": {
   "display_name": "Python (pdm_env)",
   "language": "python",
   "name": "pdm_env"
  },
  "language_info": {
   "codemirror_mode": {
    "name": "ipython",
    "version": 3
   },
   "file_extension": ".py",
   "mimetype": "text/x-python",
   "name": "python",
   "nbconvert_exporter": "python",
   "pygments_lexer": "ipython3",
   "version": "3.11.5"
  }
 },
 "nbformat": 4,
 "nbformat_minor": 5
}
