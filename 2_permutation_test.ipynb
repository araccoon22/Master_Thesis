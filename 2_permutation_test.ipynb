{
 "cells": [
  {
   "cell_type": "markdown",
   "id": "919eff09-1195-4873-9e86-ae6741f4e68a",
   "metadata": {},
   "source": [
    "# Difference between Human and Mouse Dataset: Permutation test\n",
    "\n",
    "This notebook follows the notebook on confidence bands of persistent silhouette. After obtaining different silhouettes curve for human and mouses, we want to run two sample permutation test, to assess the significance of the observed topological differences."
   ]
  },
  {
   "cell_type": "markdown",
   "id": "460ba8fc-7a5e-496a-86d9-9fea3f2a4bef",
   "metadata": {},
   "source": [
    "# Preprocessing"
   ]
  },
  {
   "cell_type": "code",
   "execution_count": 1,
   "id": "040a772f-96ea-447f-b1fb-361b7ed8b8aa",
   "metadata": {},
   "outputs": [],
   "source": [
    "import tmd\n",
    "from tmd.view import plot\n",
    "from tmd.view import view\n",
    "\n",
    "import gtda\n",
    "from gtda.diagrams import Silhouette\n",
    "\n",
    "import matplotlib.pyplot as plt\n",
    "import numpy as np\n",
    "import os\n",
    "import functions as fcts\n",
    "\n",
    "import inspect"
   ]
  },
  {
   "cell_type": "markdown",
   "id": "1eec0e2c-331d-453c-b7c3-1c10a1cf1e98",
   "metadata": {},
   "source": [
    "The data of Humans and Mices are separated in two distinct folders. Because the structure of a tree is not supposed to have cycle, we treat the data in Homology Dimension 0."
   ]
  },
  {
   "cell_type": "markdown",
   "id": "63703471-307e-4cb1-b83a-fb1b84f2ab2e",
   "metadata": {},
   "source": [
    "### Loading and checking the data"
   ]
  },
  {
   "cell_type": "code",
   "execution_count": 2,
   "id": "bef5a8fa-2cd2-42eb-bd14-ec21ebe1eda1",
   "metadata": {},
   "outputs": [],
   "source": [
    "data_folder = \"Data/ExamplesL23PC\"\n",
    "folders_to_treat = ['Human','Mouse']"
   ]
  },
  {
   "cell_type": "code",
   "execution_count": 3,
   "id": "5aaf8396-e33f-4775-81ab-3442b68130a9",
   "metadata": {},
   "outputs": [
    {
     "name": "stdout",
     "output_type": "stream",
     "text": [
      "Folder: Human\n",
      "Neurons loaded: 186\n",
      "Total files in folder: 187\n",
      ".asc files in folder: 186\n",
      "Failed to load: 0 files\n",
      "Unloaded files: []\n",
      "========================================\n",
      "\n",
      "Folder: Mouse\n",
      "Neurons loaded: 38\n",
      "Total files in folder: 39\n",
      ".asc files in folder: 38\n",
      "Failed to load: 0 files\n",
      "Unloaded files: []\n",
      "========================================\n",
      "\n"
     ]
    }
   ],
   "source": [
    "grouped_neurons = fcts.check_and_load_neurons(data_folder, folders_to_treat)"
   ]
  },
  {
   "cell_type": "markdown",
   "id": "81fc6e49-5eeb-4ba9-94e7-f6ee6d7de800",
   "metadata": {},
   "source": [
    "### Computing silhouettes"
   ]
  },
  {
   "cell_type": "markdown",
   "id": "664487ee-b5cd-40d4-bde6-2d6073d381b3",
   "metadata": {},
   "source": [
    "<div class=\"alert alert-block alert-success\">\n",
    "    \n",
    "In the following box, we can modify multiple parameters:\n",
    "- `neuron_part`: can either be *basal_dendrite*, *apical_dendrite*, *axon* or *dendrite*. It depends on which part of the neuron with want to take into account\n",
    "- `distance_type`: could either be *radial_distances* or *path_distances*\n",
    "\n",
    "</div>"
   ]
  },
  {
   "cell_type": "code",
   "execution_count": 4,
   "id": "5ef9e812-29a4-43ba-af40-24f6f9dd1f22",
   "metadata": {},
   "outputs": [
    {
     "name": "stdout",
     "output_type": "stream",
     "text": [
      "[Mouse] Computed 38 persistence diagrams for apical_dendrites.\n"
     ]
    }
   ],
   "source": [
    "neurons_mouse = grouped_neurons[\"Mouse\"]\n",
    "\n",
    "# Computing persistence diagram for mouses\n",
    "ph_diagrams_mouse = fcts.compute_diagrams(\n",
    "    neurons_mouse, \n",
    "    group_name=\"Mouse\", \n",
    "    neuron_part=\"apical_dendrite\",\n",
    "    distance_type=\"path_distances\"\n",
    ")\n",
    "\n",
    "formatted_mouse = fcts.format_diagrams_for_gtda(ph_diagrams_mouse)\n",
    "padded_mouse= fcts.pad_diagrams(formatted_mouse)\n",
    "\n",
    "sil = Silhouette()\n",
    "silhouettes_mouse = sil.fit_transform(padded_mouse)"
   ]
  },
  {
   "cell_type": "code",
   "execution_count": 5,
   "id": "03d0ff48-8a57-4625-869c-b530cc828b47",
   "metadata": {},
   "outputs": [
    {
     "name": "stdout",
     "output_type": "stream",
     "text": [
      "[Human] Computed 186 persistence diagrams for apical_dendrites.\n"
     ]
    }
   ],
   "source": [
    "neurons_human = grouped_neurons[\"Human\"]\n",
    "\n",
    "# Computing persistence diagram for humans (gives the list of the coordinates of all the persictence diagrams)\n",
    "ph_diagrams_human = fcts.compute_diagrams(\n",
    "    neurons_human, \n",
    "    group_name=\"Human\", \n",
    "    neuron_part=\"apical_dendrite\",\n",
    "    distance_type=\"path_distances\"\n",
    ")\n",
    "\n",
    "formatted_human = fcts.format_diagrams_for_gtda(ph_diagrams_human)\n",
    "padded_human = fcts.pad_diagrams(formatted_human)\n",
    "\n",
    "sil = Silhouette()\n",
    "silhouettes_human = sil.fit_transform(padded_human)"
   ]
  },
  {
   "cell_type": "markdown",
   "id": "76f4defd-ae1f-499b-b061-0d66638b2b7f",
   "metadata": {},
   "source": [
    "# Permutation test"
   ]
  },
  {
   "cell_type": "markdown",
   "id": "b0f938d9-36e0-4053-a76b-15f2e0a9b8f8",
   "metadata": {},
   "source": [
    "## Between the two groups"
   ]
  },
  {
   "cell_type": "markdown",
   "id": "bdf7d25c-1034-44ea-b958-37634edf2a38",
   "metadata": {},
   "source": [
    "To statistically assess the difference in topological morphology between human and mouse neurons, we perform a permutation test comparing the mean persistence silhouette curves derived from the apical dendrites of each group. The test use the L∞ norm to quantify the maximum pointwise difference between group means.\n",
    "\n",
    "In more simple terms, this is what we do:\n",
    "- We observe a real difference.\n",
    "- Then we simulate what differences you'd expect if the labels were meaningless.\n",
    "- We count how many of those random differences are at least as big as the real one.\n",
    "- The **p-value** tells you how surprising your observed difference is under the null."
   ]
  },
  {
   "cell_type": "markdown",
   "id": "650f6991-d265-47f0-86c6-d17ef10a5963",
   "metadata": {},
   "source": [
    "## Statistics"
   ]
  },
  {
   "cell_type": "code",
   "execution_count": 6,
   "id": "0bf0e131-cd34-4d6b-8921-0ea5c27a4f84",
   "metadata": {},
   "outputs": [
    {
     "name": "stdout",
     "output_type": "stream",
     "text": [
      "Observed test statistic: 37.7985\n",
      "P-value: 0.0010\n"
     ]
    }
   ],
   "source": [
    "p_value, observed_stat, null_dist = fcts.permutation_test_silhouettes(\n",
    "    silhouettes_human,\n",
    "    silhouettes_mouse,\n",
    "    n_permutations=1000,\n",
    "    metric='linf'  # or 'l2'\n",
    ")\n",
    "\n",
    "print(f\"Observed test statistic: {observed_stat:.4f}\")\n",
    "print(f\"P-value: {p_value:.4f}\")"
   ]
  },
  {
   "cell_type": "markdown",
   "id": "e35046e7-e460-44b9-a696-a8692b4e6826",
   "metadata": {},
   "source": [
    "The analysis yielded an observed **test statistic of 37.7985**, and a **p-value of 0.0010**, based on 1000 permutations. This indicates that under the null hypothesis -- assuming no real difference in the topological shape distributions between groups -- such a large difference would occur in only 0.1% of random label assignments.\n",
    "\n",
    "We therefore reject the null hypothesis and conclude that the apical dendrites of human and mouse neurons exhibit statistically significant differences in their topological structure, as captured by persistence-based descriptors."
   ]
  },
  {
   "cell_type": "markdown",
   "id": "ea2a0759-cebc-41d3-abad-2785576d2c1f",
   "metadata": {},
   "source": [
    "## Plots"
   ]
  },
  {
   "cell_type": "code",
   "execution_count": 7,
   "id": "6358dd7e-5aad-41e2-9923-342f8026de51",
   "metadata": {},
   "outputs": [
    {
     "data": {
      "image/png": "[encoded data removed]",
      "text/plain": [
       "<Figure size 640x480 with 1 Axes>"
      ]
     },
     "metadata": {},
     "output_type": "display_data"
    }
   ],
   "source": [
    "plt.hist(null_dist, bins=30, alpha=0.7, label='Null distribution')\n",
    "plt.axvline(observed_stat, color='red', linestyle='--', label='Observed stat')\n",
    "plt.title('Permutation Test: Human vs Mouse (L∞ distance)')\n",
    "plt.xlabel('Test statistic')\n",
    "plt.ylabel('Frequency')\n",
    "plt.legend()\n",
    "\n",
    "plt.savefig('permutation_test_inter.png')\n",
    "\n",
    "plt.show()"
   ]
  },
  {
   "cell_type": "markdown",
   "id": "56c76633-8a6c-4af3-b043-aa74f2fef625",
   "metadata": {},
   "source": [
    "This result is further illustrated in the plot, which shows the null distribution of test statistics obtained from the 1000 permutations. The red dashed line represents the observed test statistic computed from the actual group labels. Its clear separation from the bulk of the null distribution confirms that the difference in topological signatures between human and mouse apical dendrites is not attributable to random variation. The shape of the null distribution also highlights the sensitivity of the test: values as extreme as the observed one were almost never reached under random labelings, providing strong empirical support for the statistical significance of the difference."
   ]
  },
  {
   "cell_type": "markdown",
   "id": "90419b7b-a3b1-465c-9a77-33196b4dcba7",
   "metadata": {},
   "source": [
    "## Within the groups"
   ]
  },
  {
   "cell_type": "markdown",
   "id": "3950f517-8f1e-4d3f-a71a-f8628dd18b64",
   "metadata": {},
   "source": [
    "A permutation test *within the group* tells us what kind of differences are normal within a group that should be homogeneous.\n",
    "\n",
    "$\\to$ *Is the inter-species difference bigger than any difference we’d expect within a single species?*\n"
   ]
  },
  {
   "cell_type": "markdown",
   "id": "50dac346-d6b0-432d-9756-7770f1f3ab19",
   "metadata": {},
   "source": [
    "### Mouse"
   ]
  },
  {
   "cell_type": "code",
   "execution_count": 8,
   "id": "3eb79ee4-d6e6-4583-b2d6-e5c5f82592b4",
   "metadata": {},
   "outputs": [],
   "source": [
    "within_mouse_stats =fcts.within_group_permutation_test(silhouettes_mouse, n_trials=100)"
   ]
  },
  {
   "cell_type": "code",
   "execution_count": 9,
   "id": "8e836357-899d-43f9-9e46-1b9116a3dad5",
   "metadata": {},
   "outputs": [
    {
     "data": {
      "image/png": "[encoded data removed]",
      "text/plain": [
       "<Figure size 640x480 with 1 Axes>"
      ]
     },
     "metadata": {},
     "output_type": "display_data"
    }
   ],
   "source": [
    "plt.hist(within_mouse_stats, bins=30, alpha=0.7, label='Within-mouse null')\n",
    "plt.axvline(observed_stat, color='red', linestyle='--', label='Human vs Mouse')\n",
    "plt.title('Comparison of real vs within-group variability')\n",
    "plt.xlabel('Test statistic (L∞)')\n",
    "plt.ylabel('Frequency')\n",
    "plt.legend()\n",
    "plt.savefig('permutation_test_mouse.png')\n",
    "\n",
    "plt.show()"
   ]
  },
  {
   "cell_type": "markdown",
   "id": "ce493404-e67b-423f-8a8f-523781868593",
   "metadata": {},
   "source": [
    "### Human"
   ]
  },
  {
   "cell_type": "code",
   "execution_count": 10,
   "id": "8052ddaa-1766-46af-8589-21746d8d5217",
   "metadata": {},
   "outputs": [],
   "source": [
    "within_human_stats =fcts.within_group_permutation_test(silhouettes_human, n_trials=100)"
   ]
  },
  {
   "cell_type": "code",
   "execution_count": 11,
   "id": "59c1116e-e4d0-48a7-9e3c-cd4fbad6b145",
   "metadata": {},
   "outputs": [
    {
     "data": {
      "image/png": "[encoded data removed]",
      "text/plain": [
       "<Figure size 640x480 with 1 Axes>"
      ]
     },
     "metadata": {},
     "output_type": "display_data"
    }
   ],
   "source": [
    "plt.hist(within_human_stats, bins=30, alpha=0.7, label='Within-human null')\n",
    "plt.axvline(observed_stat, color='red', linestyle='--', label='Human vs Mouse')\n",
    "plt.title('Comparison of real vs within-group variability')\n",
    "plt.xlabel('Test statistic (L∞)')\n",
    "plt.ylabel('Frequency')\n",
    "plt.legend()\n",
    "\n",
    "plt.savefig('permutation_test_human.png')\n",
    "plt.show()"
   ]
  }
 ],
 "metadata": {
  "kernelspec": {
   "display_name": "Python (pdm_env)",
   "language": "python",
   "name": "pdm_env"
  },
  "language_info": {
   "codemirror_mode": {
    "name": "ipython",
    "version": 3
   },
   "file_extension": ".py",
   "mimetype": "text/x-python",
   "name": "python",
   "nbconvert_exporter": "python",
   "pygments_lexer": "ipython3",
   "version": "3.11.5"
  }
 },
 "nbformat": 4,
 "nbformat_minor": 5
}
